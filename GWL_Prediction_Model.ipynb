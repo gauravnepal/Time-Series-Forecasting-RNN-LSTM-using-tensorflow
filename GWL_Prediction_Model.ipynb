{
 "cells": [
  {
   "cell_type": "markdown",
   "metadata": {
    "id": "JFqXejOviTh4"
   },
   "source": [
    "# Ground Water Level Timeseries Forecasting | RNN-LSTM using Tensorflow\n",
    "(Using Deep learning approches by Gaurav NEPAL)"
   ]
  },
  {
   "cell_type": "markdown",
   "metadata": {
    "id": "1FdfVXQWic-P"
   },
   "source": [
    "### Time Series Forecasting of Ground Water Level (GWL)\n",
    "\n",
    "Time series forecasting is dificult. Unlike the simpler problems of regression, time series problems add the complexity of order or temporal dependence between observations.\n",
    "\n",
    "This can be dificult as specialized handling of the data is required when fitting and evaluating\n",
    "models. This temporal structure can also aid in modeling, providing additional structure like trends and seasonality that can be leveraged to improve model skill. Previously, time series forecasting has been dominated by linear methods like ARIMA because they are well understood and effective on many problems. But these classical methods also suffer from some limitations, like as:\n",
    "- Focus on complete data: missing or corrupt data is generally unsupported.(we have univariate missing pattern on our Data Sets)\n",
    "- Focus on linear relationships: assuming a linear relationship excludes more complex joint distributions.\n",
    "- Focus on fixed temporal dependence: the relationship between observations at different times, and in turn the number of lag observations provided as input, must be diagnosed and specified.\n",
    "- Focus on univariate data: many real-world problems have multiple input variables.\n",
    "- Focus on one-step forecasts: many real-world problems require forecasts with a long time horizon.\n",
    "\n",
    "Machine learning methods can be effective on more complex time series forecasting problems with multiple input variables, complex nonlinear relationships, and missing data. In order to perform well, these methods often require hand-engineered features prepared by either domain experts or practitioners with a background in signal processing.\n",
    "Existing techniques often depended on hand-crafted features that were expensive to create and required expert knowledge of the field.\n",
    "\n",
    "| Deep Learning for Time-Series Analysis, 2017.|"
   ]
  },
  {
   "cell_type": "code",
   "execution_count": null,
   "metadata": {},
   "outputs": [],
   "source": [
    "# Ground Water Level Timeseries Forecasting | RNN-LSTM using Tensorflow\n",
    "(Using Deep learning approches by Gaurav NEPAL)"
   ]
  },
  {
   "cell_type": "markdown",
   "metadata": {
    "id": "irMVkK4Mis1C"
   },
   "source": [
    "##### Deep Learning for Time Series Forecasting: \n",
    "\n",
    "The use of Deep Learning for Time Series Forecasting overcomes the traditional Machine Learning disadvantages with many different approaches. In this artitcle 5 different Deep Learning Architecture for Time Series Forecasting are presented:\n",
    "\n",
    "- Recurrent Neural Networks (RNNs), that are the most classical and used architecture for Time Series Forecasting problems;\n",
    "- Long Short-Term Memory (LSTM), that are an evolution of RNNs developed in order to overcome the vanishing gradient problem;\n",
    "- Gated Recurrent Unit (GRU), that are another evolution of RNNs, similar to LSTM;\n",
    "- Encoder-Decoder Model, that is a model for RNNs introduced in order to address the problems where input sequences differ in length from output sequences;\n",
    "- Attention Mechanism, that is an evolution of the Encoder-Decoder Model, developed in order to avoid forgotting of the earlier parts of the sequence.\n",
    "- Multilayer Perceptrons for Time Series\n",
    "- Convolutional Neural Networks for Time Series"
   ]
  },
  {
   "cell_type": "markdown",
   "metadata": {
    "id": "lRUP5gEcj2WD"
   },
   "source": [
    "Time series\n",
    "Creating a time series model in Python allows you to capture more data complexity and include all possible important data elements. You can also fit different metrics and fit the model to It might be more precise.” \n",
    " **How can groundwater level measurement help?  **\n",
    "\n",
    "The data collected by groundwater monitoring can be used to determine how much groundwater can be safely pumped before more groundwater cannot be pumped. In this way, local water managers can prevent the wells from drying up and prevent poor-quality water from flowing into the aquifer. \n",
    "\n",
    "**Introduction:** \n",
    "\n",
    " Groundwater Level Fluctuation (GWL) can be used to assess groundwater stability and flow, as well as aquifer characteristics. In addition, groundwater is the main source of irrigation for agricultural lands in major agricultural areas. Agricultural water managers assess whether and how much groundwater is needed during the planting season (Barlow and Clark 2011; Dyer et al. 2015; Kebede et al. 2014). Although most government agencies collect GWL data once or twice a year in major agricultural areas, this is not sufficient for short-term research. Therefore, when there is no available prior information and computing resources are limited, it is necessary to achieve acceptable GWL change prediction accuracy. It is well known that the dynamic changes of GWL are affected by climate events, urbanization, tidal effects and land subsidence (Khaki et al., 2015). Among them, atmospheric pressure, frost, precipitation, evapotranspiration and other meteorological parameters are considered to be important indicators of GWL fluctuations. \n",
    "\n",
    "Models for simulating groundwater can be divided into two categories: physical models and data-driven models. For the physical model, an appropriate synthesis of aquifer parameters is used to determine the spatial variation of the underground space. Even through expensive on-site surveys, this information is difficult to obtain, further increasing the computational cost. Therefore, it is necessary to partition the physical domain to obtain a numerical solution (Taormina et al., 2012). A suitable alternative to the physical model is the data-driven model. When the data is insufficient and the physical mechanism is not the research focus, it can provide accurate predictions without expensive calibration time (Mohanty et al., 2015). Technology based on artificial neural networks (ANN) and support vector machines (SVM) are data-driven models and are considered standard non-linear estimators that can overcome the limitations of physical models (Behzad et al., 2010). \n",
    "\n",
    "In groundwater hydrology, artificial neural networks have been used in applications such as groundwater level prediction (Emamgholizadeh et al., 2014; He et al., 2014; Khaki et al., 2015). However, it is well known that artificial neural network models have local minima and overfitting problems. SVM can overcome these shortcomings (Hosseini and Mahjouri 2016). In the context of GWL prediction, a comparative study of SVM and ANN is carried out. Bezzard et al. (2010) Compare SVM and ANN to predict transient GWL under different weather and pumping conditions. Yin et al. (2011) developed and compared two time series prediction models using ANN and SVM, and applied them to predict GWL fluctuations in coastal aquifers recharged by precipitation and tidal effects. Yin et al. (2016) compared the long-term prediction of GWL by the recursive prediction performance of SVM and ANN, and concluded that SVM is a better alternative to ANN in terms of the accuracy and robustness of predicting GWL fluctuations. \n",
    "\n",
    "Although SVM is better than ANN in reflecting the dynamic changes of GWL, it takes longer due to trial and error (Raghavendra and Deka 2014). It is also sensitive to outliers and redundant data (Suykens et al., 2002). In contrast, the results of random forest (RF) predictions are not affected by outliers and redundant data (Rodríguez-Galiano et al. 2014). A comparative study of RF and SVM has been carried out from different perspectives. For example, Pal (2005) compares RF and SVM in terms of classification accuracy, training time, and user-defined parameters. They also compared the four criteria in the mineral vision model (Rodríguez-Galiano et al., 2007). 2015). In these case studies, the authors concluded that, compared to SVM, the RF model exhibits stronger predictive capabilities and greater robustness, less parameterization complexity, and shorter optimization training time. \n"
   ]
  },
  {
   "cell_type": "markdown",
   "metadata": {
    "id": "8KNE-AAyi1Zz"
   },
   "source": [
    "Reference: \n",
    "- https://towardsdatascience.com/time-series-forecasting-with-deep-learning-and-attention-mechanism-2d001fc871fc\n",
    "- https://arxiv.org/abs/1701.01887\n",
    "- https://link.springer.com/article/10.1007/s13201-019-1094-6 \n",
    "- https://link.springer.com/article/10.1007/s13201-018-0742-6"
   ]
  },
  {
   "cell_type": "markdown",
   "metadata": {
    "id": "_E04XwkpkzNH"
   },
   "source": [
    "#### Get to Know BRGM Dataset (Selected Randomly) which have good amount of timesteps. \n"
   ]
  },
  {
   "cell_type": "code",
   "execution_count": null,
   "metadata": {
    "colab": {
     "base_uri": "https://localhost:8080/"
    },
    "id": "BD8-5sCLDjiV",
    "outputId": "ab922b7f-dd49-4476-bce3-8e4320a549ab"
   },
   "outputs": [
    {
     "name": "stdout",
     "output_type": "stream",
     "text": [
      "scipy: 1.4.1\n",
      "numpy: 1.19.5\n",
      "matplotlib: 3.2.2\n",
      "pandas: 1.1.5\n",
      "statsmodels: 0.10.2\n",
      "sklearn: 0.22.2.post1\n"
     ]
    }
   ],
   "source": [
    "#Create Environment, Install and Import Required Libraries: \n",
    "#check library version numbers\n",
    "# scipy\n",
    "import scipy\n",
    "print('scipy: %s' % scipy.__version__)\n",
    "# numpy\n",
    "import numpy as np\n",
    "print('numpy: %s' % np.__version__)\n",
    "# matplotlib\n",
    "import matplotlib\n",
    "print('matplotlib: %s' % matplotlib.__version__)\n",
    "# pandas\n",
    "import pandas as pd\n",
    "print('pandas: %s' % pd.__version__)\n",
    "# statsmodels\n",
    "import statsmodels\n",
    "print('statsmodels: %s' % statsmodels.__version__)\n",
    "# scikit-learn\n",
    "import sklearn\n",
    "print('sklearn: %s' % sklearn.__version__)"
   ]
  },
  {
   "cell_type": "code",
   "execution_count": null,
   "metadata": {
    "colab": {
     "base_uri": "https://localhost:8080/"
    },
    "id": "JwrKTXkjDp8B",
    "outputId": "664b1dde-4731-45cc-f048-bcd186d8f3c7"
   },
   "outputs": [
    {
     "name": "stdout",
     "output_type": "stream",
     "text": [
      "tensorflow: 2.6.0\n",
      "keras: 2.6.0\n",
      "sklearn: 0.22.2.post1\n"
     ]
    }
   ],
   "source": [
    "# theano\n",
    "# import theano\n",
    "# print('theano: %s' % theano.__version__)\n",
    "# tensorflow\n",
    "import tensorflow\n",
    "import tensorflow as tf\n",
    "print('tensorflow: %s' % tensorflow.__version__)\n",
    "# keras\n",
    "import keras\n",
    "print('keras: %s' % keras.__version__)\n",
    "import matplotlib.pyplot as plt\n",
    "from keras.models import Sequential\n",
    "from keras.layers import Dense, LSTM, Dropout\n",
    "from tensorflow.keras.optimizers import RMSprop\n",
    "from sklearn.preprocessing import MinMaxScaler\n",
    "print('sklearn: %s' % sklearn.__version__)\n",
    "from sklearn.metrics import mean_squared_error\n"
   ]
  },
  {
   "cell_type": "markdown",
   "metadata": {
    "id": "QKZktzADH2aG"
   },
   "source": [
    "#### Data Gathering\n",
    "This service allows to list the water table levels (piezometric *chronicles*) of a groundwater measuring station.\n",
    "\n",
    "**Data source:** National Groundwater Data Access Bank (ADES) http://www.ades.eaufrance.fr/.\n",
    "\n",
    "Default page size: 5000, max page size: 20000.\n",
    "\n",
    "The depth of access to the results is: 20000, depth calculation = page number * maximum number of results in one page."
   ]
  },
  {
   "cell_type": "code",
   "execution_count": null,
   "metadata": {
    "colab": {
     "base_uri": "https://localhost:8080/"
    },
    "id": "DSQ3SzxoDw9y",
    "outputId": "2ecffa67-6e68-492b-a2b6-a3938d65b413"
   },
   "outputs": [
    {
     "data": {
      "text/plain": [
       "<Response [200]>"
      ]
     },
     "execution_count": 5,
     "metadata": {},
     "output_type": "execute_result"
    }
   ],
   "source": [
    "#set API  url where you get data from\n",
    "import requests\n",
    "url = 'https://hubeau.eaufrance.fr/api/v1/niveaux_nappes/chroniques?code_bss=00061X0117/PZ1&size=20000'\n",
    "response = requests.get(url)\n",
    "response"
   ]
  },
  {
   "cell_type": "markdown",
   "metadata": {
    "id": "Dhhf5dRC1H3q"
   },
   "source": [
    "Responses from API \n",
    "\n",
    "200 --> OK, all results are present in the response\n",
    "\n",
    "206 --> OK, there are still results\n",
    "\n",
    "400 --> Bad request\n",
    "\n",
    "401 --> Unauthorized\n",
    "\n",
    "403 --> Forbidden \n",
    "\n",
    "404 --> Not found\n",
    "\n",
    "500 --> Internal Server Error"
   ]
  },
  {
   "cell_type": "code",
   "execution_count": null,
   "metadata": {
    "colab": {
     "base_uri": "https://localhost:8080/",
     "height": 894
    },
    "id": "oseurcLTEEJo",
    "outputId": "e3028b92-66ae-4df3-d102-f761e8e99a26"
   },
   "outputs": [
    {
     "name": "stdout",
     "output_type": "stream",
     "text": [
      "Data shape:  (14656, 15)\n"
     ]
    },
    {
     "data": {
      "text/html": [
       "<div>\n",
       "<style scoped>\n",
       "    .dataframe tbody tr th:only-of-type {\n",
       "        vertical-align: middle;\n",
       "    }\n",
       "\n",
       "    .dataframe tbody tr th {\n",
       "        vertical-align: top;\n",
       "    }\n",
       "\n",
       "    .dataframe thead th {\n",
       "        text-align: right;\n",
       "    }\n",
       "</style>\n",
       "<table border=\"1\" class=\"dataframe\">\n",
       "  <thead>\n",
       "    <tr style=\"text-align: right;\">\n",
       "      <th></th>\n",
       "      <th>code_bss</th>\n",
       "      <th>urn_bss</th>\n",
       "      <th>date_mesure</th>\n",
       "      <th>timestamp_mesure</th>\n",
       "      <th>niveau_nappe_eau</th>\n",
       "      <th>mode_obtention</th>\n",
       "      <th>statut</th>\n",
       "      <th>qualification</th>\n",
       "      <th>code_continuite</th>\n",
       "      <th>nom_continuite</th>\n",
       "      <th>code_producteur</th>\n",
       "      <th>nom_producteur</th>\n",
       "      <th>code_nature_mesure</th>\n",
       "      <th>nom_nature_mesure</th>\n",
       "      <th>profondeur_nappe</th>\n",
       "    </tr>\n",
       "  </thead>\n",
       "  <tbody>\n",
       "    <tr>\n",
       "      <th>0</th>\n",
       "      <td>00061X0117/PZ1</td>\n",
       "      <td>http://services.ades.eaufrance.fr/pointeau/000...</td>\n",
       "      <td>1970-01-22</td>\n",
       "      <td>1857600000</td>\n",
       "      <td>18.65</td>\n",
       "      <td>Valeur mesurée</td>\n",
       "      <td>Donnée contrôlée niveau 1</td>\n",
       "      <td>Correcte</td>\n",
       "      <td>2</td>\n",
       "      <td>Point lié au point précédent</td>\n",
       "      <td>18591178100028</td>\n",
       "      <td>Agence de l'Eau Artois-Picardie (18591178100028)</td>\n",
       "      <td>None</td>\n",
       "      <td>None</td>\n",
       "      <td>17.06</td>\n",
       "    </tr>\n",
       "    <tr>\n",
       "      <th>1</th>\n",
       "      <td>00061X0117/PZ1</td>\n",
       "      <td>http://services.ades.eaufrance.fr/pointeau/000...</td>\n",
       "      <td>1970-01-23</td>\n",
       "      <td>1944000000</td>\n",
       "      <td>18.65</td>\n",
       "      <td>Valeur mesurée</td>\n",
       "      <td>Donnée contrôlée niveau 1</td>\n",
       "      <td>Correcte</td>\n",
       "      <td>2</td>\n",
       "      <td>Point lié au point précédent</td>\n",
       "      <td>18591178100028</td>\n",
       "      <td>Agence de l'Eau Artois-Picardie (18591178100028)</td>\n",
       "      <td>None</td>\n",
       "      <td>None</td>\n",
       "      <td>17.06</td>\n",
       "    </tr>\n",
       "    <tr>\n",
       "      <th>2</th>\n",
       "      <td>00061X0117/PZ1</td>\n",
       "      <td>http://services.ades.eaufrance.fr/pointeau/000...</td>\n",
       "      <td>1970-01-24</td>\n",
       "      <td>2030400000</td>\n",
       "      <td>18.65</td>\n",
       "      <td>Valeur mesurée</td>\n",
       "      <td>Donnée contrôlée niveau 1</td>\n",
       "      <td>Correcte</td>\n",
       "      <td>2</td>\n",
       "      <td>Point lié au point précédent</td>\n",
       "      <td>18591178100028</td>\n",
       "      <td>Agence de l'Eau Artois-Picardie (18591178100028)</td>\n",
       "      <td>None</td>\n",
       "      <td>None</td>\n",
       "      <td>17.06</td>\n",
       "    </tr>\n",
       "    <tr>\n",
       "      <th>3</th>\n",
       "      <td>00061X0117/PZ1</td>\n",
       "      <td>http://services.ades.eaufrance.fr/pointeau/000...</td>\n",
       "      <td>1970-01-25</td>\n",
       "      <td>2116800000</td>\n",
       "      <td>18.65</td>\n",
       "      <td>Valeur mesurée</td>\n",
       "      <td>Donnée contrôlée niveau 1</td>\n",
       "      <td>Correcte</td>\n",
       "      <td>2</td>\n",
       "      <td>Point lié au point précédent</td>\n",
       "      <td>18591178100028</td>\n",
       "      <td>Agence de l'Eau Artois-Picardie (18591178100028)</td>\n",
       "      <td>None</td>\n",
       "      <td>None</td>\n",
       "      <td>17.06</td>\n",
       "    </tr>\n",
       "    <tr>\n",
       "      <th>4</th>\n",
       "      <td>00061X0117/PZ1</td>\n",
       "      <td>http://services.ades.eaufrance.fr/pointeau/000...</td>\n",
       "      <td>1970-01-26</td>\n",
       "      <td>2203200000</td>\n",
       "      <td>18.65</td>\n",
       "      <td>Valeur mesurée</td>\n",
       "      <td>Donnée contrôlée niveau 1</td>\n",
       "      <td>Correcte</td>\n",
       "      <td>2</td>\n",
       "      <td>Point lié au point précédent</td>\n",
       "      <td>18591178100028</td>\n",
       "      <td>Agence de l'Eau Artois-Picardie (18591178100028)</td>\n",
       "      <td>None</td>\n",
       "      <td>None</td>\n",
       "      <td>17.06</td>\n",
       "    </tr>\n",
       "    <tr>\n",
       "      <th>...</th>\n",
       "      <td>...</td>\n",
       "      <td>...</td>\n",
       "      <td>...</td>\n",
       "      <td>...</td>\n",
       "      <td>...</td>\n",
       "      <td>...</td>\n",
       "      <td>...</td>\n",
       "      <td>...</td>\n",
       "      <td>...</td>\n",
       "      <td>...</td>\n",
       "      <td>...</td>\n",
       "      <td>...</td>\n",
       "      <td>...</td>\n",
       "      <td>...</td>\n",
       "      <td>...</td>\n",
       "    </tr>\n",
       "    <tr>\n",
       "      <th>14651</th>\n",
       "      <td>00061X0117/PZ1</td>\n",
       "      <td>http://services.ades.eaufrance.fr/pointeau/000...</td>\n",
       "      <td>2021-09-09</td>\n",
       "      <td>1631149200000</td>\n",
       "      <td>16.29</td>\n",
       "      <td>Valeur mesurée</td>\n",
       "      <td>Donnée contrôlée niveau 1</td>\n",
       "      <td>Correcte</td>\n",
       "      <td>2</td>\n",
       "      <td>Point lié au point précédent</td>\n",
       "      <td>265</td>\n",
       "      <td>Service Géologique Régional Nord - Pas de Cala...</td>\n",
       "      <td>None</td>\n",
       "      <td>None</td>\n",
       "      <td>19.47</td>\n",
       "    </tr>\n",
       "    <tr>\n",
       "      <th>14652</th>\n",
       "      <td>00061X0117/PZ1</td>\n",
       "      <td>http://services.ades.eaufrance.fr/pointeau/000...</td>\n",
       "      <td>2021-09-10</td>\n",
       "      <td>1631253600000</td>\n",
       "      <td>16.26</td>\n",
       "      <td>Valeur mesurée</td>\n",
       "      <td>Donnée contrôlée niveau 1</td>\n",
       "      <td>Correcte</td>\n",
       "      <td>2</td>\n",
       "      <td>Point lié au point précédent</td>\n",
       "      <td>265</td>\n",
       "      <td>Service Géologique Régional Nord - Pas de Cala...</td>\n",
       "      <td>None</td>\n",
       "      <td>None</td>\n",
       "      <td>19.50</td>\n",
       "    </tr>\n",
       "    <tr>\n",
       "      <th>14653</th>\n",
       "      <td>00061X0117/PZ1</td>\n",
       "      <td>http://services.ades.eaufrance.fr/pointeau/000...</td>\n",
       "      <td>2021-09-11</td>\n",
       "      <td>1631336400000</td>\n",
       "      <td>16.24</td>\n",
       "      <td>Valeur mesurée</td>\n",
       "      <td>Donnée contrôlée niveau 1</td>\n",
       "      <td>Correcte</td>\n",
       "      <td>2</td>\n",
       "      <td>Point lié au point précédent</td>\n",
       "      <td>265</td>\n",
       "      <td>Service Géologique Régional Nord - Pas de Cala...</td>\n",
       "      <td>None</td>\n",
       "      <td>None</td>\n",
       "      <td>19.52</td>\n",
       "    </tr>\n",
       "    <tr>\n",
       "      <th>14654</th>\n",
       "      <td>00061X0117/PZ1</td>\n",
       "      <td>http://services.ades.eaufrance.fr/pointeau/000...</td>\n",
       "      <td>2021-09-12</td>\n",
       "      <td>1631408400000</td>\n",
       "      <td>16.22</td>\n",
       "      <td>Valeur mesurée</td>\n",
       "      <td>Donnée contrôlée niveau 1</td>\n",
       "      <td>Correcte</td>\n",
       "      <td>2</td>\n",
       "      <td>Point lié au point précédent</td>\n",
       "      <td>265</td>\n",
       "      <td>Service Géologique Régional Nord - Pas de Cala...</td>\n",
       "      <td>None</td>\n",
       "      <td>None</td>\n",
       "      <td>19.54</td>\n",
       "    </tr>\n",
       "    <tr>\n",
       "      <th>14655</th>\n",
       "      <td>00061X0117/PZ1</td>\n",
       "      <td>http://services.ades.eaufrance.fr/pointeau/000...</td>\n",
       "      <td>2021-09-13</td>\n",
       "      <td>1631491200000</td>\n",
       "      <td>16.19</td>\n",
       "      <td>Valeur mesurée</td>\n",
       "      <td>Donnée contrôlée niveau 1</td>\n",
       "      <td>Correcte</td>\n",
       "      <td>2</td>\n",
       "      <td>Point lié au point précédent</td>\n",
       "      <td>265</td>\n",
       "      <td>Service Géologique Régional Nord - Pas de Cala...</td>\n",
       "      <td>None</td>\n",
       "      <td>None</td>\n",
       "      <td>19.57</td>\n",
       "    </tr>\n",
       "  </tbody>\n",
       "</table>\n",
       "<p>14656 rows × 15 columns</p>\n",
       "</div>"
      ],
      "text/plain": [
       "             code_bss  ... profondeur_nappe\n",
       "0      00061X0117/PZ1  ...            17.06\n",
       "1      00061X0117/PZ1  ...            17.06\n",
       "2      00061X0117/PZ1  ...            17.06\n",
       "3      00061X0117/PZ1  ...            17.06\n",
       "4      00061X0117/PZ1  ...            17.06\n",
       "...               ...  ...              ...\n",
       "14651  00061X0117/PZ1  ...            19.47\n",
       "14652  00061X0117/PZ1  ...            19.50\n",
       "14653  00061X0117/PZ1  ...            19.52\n",
       "14654  00061X0117/PZ1  ...            19.54\n",
       "14655  00061X0117/PZ1  ...            19.57\n",
       "\n",
       "[14656 rows x 15 columns]"
      ]
     },
     "execution_count": 6,
     "metadata": {},
     "output_type": "execute_result"
    }
   ],
   "source": [
    "#Converting API to Pandas DataFrame: \n",
    "#Calling . json() gets you another promise for the body of the http response that is yet to be loaded.\n",
    "station = response.json()\n",
    "data = pd.DataFrame(station['data'])\n",
    "# -----------------------------<>--------------------------------------------------\n",
    "print(\"Data shape: \",data.shape)\n",
    "data"
   ]
  },
  {
   "cell_type": "code",
   "execution_count": null,
   "metadata": {
    "colab": {
     "base_uri": "https://localhost:8080/"
    },
    "id": "8m0KmKkq01jo",
    "outputId": "c4f00651-62e8-4822-a433-2879bc7dd77b"
   },
   "outputs": [
    {
     "name": "stdout",
     "output_type": "stream",
     "text": [
      "<class 'pandas.core.frame.DataFrame'>\n",
      "RangeIndex: 14656 entries, 0 to 14655\n",
      "Data columns (total 15 columns):\n",
      " #   Column              Non-Null Count  Dtype  \n",
      "---  ------              --------------  -----  \n",
      " 0   code_bss            14656 non-null  object \n",
      " 1   urn_bss             14656 non-null  object \n",
      " 2   date_mesure         14656 non-null  object \n",
      " 3   timestamp_mesure    14656 non-null  int64  \n",
      " 4   niveau_nappe_eau    14656 non-null  float64\n",
      " 5   mode_obtention      14656 non-null  object \n",
      " 6   statut              14656 non-null  object \n",
      " 7   qualification       14656 non-null  object \n",
      " 8   code_continuite     14656 non-null  object \n",
      " 9   nom_continuite      14656 non-null  object \n",
      " 10  code_producteur     14656 non-null  object \n",
      " 11  nom_producteur      14656 non-null  object \n",
      " 12  code_nature_mesure  1046 non-null   object \n",
      " 13  nom_nature_mesure   1046 non-null   object \n",
      " 14  profondeur_nappe    14656 non-null  float64\n",
      "dtypes: float64(2), int64(1), object(12)\n",
      "memory usage: 1.7+ MB\n"
     ]
    }
   ],
   "source": [
    "#Check the data type \n",
    "data.info()"
   ]
  },
  {
   "cell_type": "markdown",
   "metadata": {
    "id": "mnanbVeF6jHp"
   },
   "source": [
    "As we can see above that \"date_mesure\" is still an object, so lets convert it to datetime format using pandas `pd.to_datetime` function. "
   ]
  },
  {
   "cell_type": "code",
   "execution_count": null,
   "metadata": {
    "colab": {
     "base_uri": "https://localhost:8080/"
    },
    "id": "GEYGkvdHEGPr",
    "outputId": "a5241cb6-9f24-499a-d052-705b88ab1ac7"
   },
   "outputs": [
    {
     "name": "stdout",
     "output_type": "stream",
     "text": [
      "<class 'pandas.core.frame.DataFrame'>\n",
      "RangeIndex: 14656 entries, 0 to 14655\n",
      "Data columns (total 2 columns):\n",
      " #   Column            Non-Null Count  Dtype         \n",
      "---  ------            --------------  -----         \n",
      " 0   date_mesure       14656 non-null  datetime64[ns]\n",
      " 1   niveau_nappe_eau  14656 non-null  float64       \n",
      "dtypes: datetime64[ns](1), float64(1)\n",
      "memory usage: 229.1 KB\n"
     ]
    }
   ],
   "source": [
    "#As we can see above that \"date_mesure\" is still an object, so lets convert it to datetime format\n",
    "data[\"date_mesure\"] = pd.to_datetime(data[\"date_mesure\"])\n",
    "# copy data on variable name called 'series'\n",
    "series = data.copy()\n",
    "#Selection of targeted variable\n",
    "series = data[['date_mesure','niveau_nappe_eau']] \n",
    "series.info()"
   ]
  },
  {
   "cell_type": "code",
   "execution_count": null,
   "metadata": {
    "id": "X3iHLRc0T5HW"
   },
   "outputs": [],
   "source": [
    "#Separate dates and save it to variable name called 'train_dates' for future propose (i.e, forecsting future timesteps)\n",
    "train_dates = pd.to_datetime(series['date_mesure'])"
   ]
  },
  {
   "cell_type": "markdown",
   "metadata": {
    "id": "pBQf4FVR-7tm"
   },
   "source": [
    "## **Data Preprocessing**\n",
    "For our analysis, let train the model on the first 80% of data and test it on the remaining 20%."
   ]
  },
  {
   "cell_type": "code",
   "execution_count": null,
   "metadata": {
    "id": "ZCAwS3W_EJHP"
   },
   "outputs": [],
   "source": [
    "# Set the DataFrame index using date_mesure | pandas df.set_index(keys)\n",
    "series = series.set_index('date_mesure')"
   ]
  },
  {
   "cell_type": "code",
   "execution_count": null,
   "metadata": {
    "id": "K2UPbzkrELQt"
   },
   "outputs": [],
   "source": []
  },
  {
   "cell_type": "code",
   "execution_count": null,
   "metadata": {
    "colab": {
     "base_uri": "https://localhost:8080/",
     "height": 330
    },
    "id": "9IfZDsRhENQV",
    "outputId": "743e0a02-ea64-4395-fc80-58ba029c3c03"
   },
   "outputs": [
    {
     "data": {
      "image/png": "[encoded data removed]",
      "text/plain": [
       "<Figure size 1008x288 with 1 Axes>"
      ]
     },
     "metadata": {
      "needs_background": "light"
     },
     "output_type": "display_data"
    },
    {
     "data": {
      "text/plain": [
       "2932"
      ]
     },
     "execution_count": 11,
     "metadata": {},
     "output_type": "execute_result"
    },
    {
     "name": "stdout",
     "output_type": "stream",
     "text": [
      "Train data : 11724   Test Data :  2932\n",
      "11724\n"
     ]
    }
   ],
   "source": [
    "# Spliting Data into train and test sets \n",
    "#SOln1:\n",
    "#Split Data with Date Range\n",
    "# train = series.loc[series.index < '2017-01-01']\n",
    "# test = series.loc[series.index >= '2017-01-01']\n",
    "\n",
    "#--------------------------------------<>-------------------------------------\n",
    "\n",
    "#SOln2:\n",
    "#Masking and spliting data with numpy random  fucntion \n",
    "# mask = np.random.rand(len(series)) < 0.8  #remove rand ffunction -\n",
    "# train = series[mask]\n",
    "# test = series[~mask]\n",
    "\n",
    "\n",
    "#Solution 3: \n",
    "n = len(series)\n",
    "train = series[0:int(n*0.8)]\n",
    "test = series[int(n*0.8):]\n",
    "\n",
    "\n",
    "plt.figure(figsize=(14,4))\n",
    "plt.plot(train['niveau_nappe_eau'])\n",
    "plt.plot(test['niveau_nappe_eau'])\n",
    "plt.ylabel(\"niveau nappe eau\")\n",
    "plt.xlabel(\"Date\")\n",
    "plt.legend([\"Training Set\", \"Test Set\"])\n",
    "plt.title(\"Ground Water Level\")\n",
    "plt.show()\n",
    "print('Train data :',len(train),'  Test Data : ',len(test))\n",
    "series.shape\n",
    "print(len(train))\n",
    "len(test)\n"
   ]
  },
  {
   "cell_type": "markdown",
   "metadata": {
    "id": "0bfCza-JlT6V"
   },
   "source": [
    "\n",
    "\n",
    "---\n",
    "\n",
    "\n",
    "\n",
    "---\n",
    "\n"
   ]
  },
  {
   "cell_type": "markdown",
   "metadata": {
    "id": "sNPCcB2KEgJd"
   },
   "source": [
    "### Data Normalization"
   ]
  },
  {
   "cell_type": "markdown",
   "metadata": {
    "id": "WrA2WRTqlOgU"
   },
   "source": [
    "“Normalizing” a vector most often means dividing by a norm of the vector. It also often refers to rescaling by the minimum and range of the vector, to make all the elements lie between 0 and 1 thus bringing all the values of numeric columns in the dataset to a common scale.\n",
    "\n",
    "\n",
    "# ![EuitP.png](data:image/png;base64,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)\n",
    "\n",
    "MinMaxScaler preserves the shape of the original distribution. It doesn't meaningfully change the information embedded in the original data. Note that MinMaxScaler doesn't reduce the importance of outliers. The default range for the feature returned by MinMaxScaler is 0 to 1"
   ]
  },
  {
   "cell_type": "markdown",
   "metadata": {
    "id": "A_gdPdPGAlf-"
   },
   "source": [
    "our data is still a ***sequence***.. a list of numbers. The neural network is trained as a supervised model. Thus we need to convert the data from sequence to supervised data. Training a neural network of any machine learning model requires the data to be in `{<features>,<target>}` format. Similarly, we need to convert the given data into this format. Here, Recurrent Neural Network introduce a concept of a look back. \"Look back\" or 'backward look' is nothing but the number of previous days’ data to use, to predict the value for the next day."
   ]
  },
  {
   "cell_type": "code",
   "execution_count": null,
   "metadata": {
    "colab": {
     "base_uri": "https://localhost:8080/"
    },
    "id": "jJr0nromEQq9",
    "outputId": "353d7255-62f7-4807-c62e-4ef2cba34d6e"
   },
   "outputs": [
    {
     "name": "stdout",
     "output_type": "stream",
     "text": [
      "(14626, 15, 1)\n",
      "(14626,)\n"
     ]
    }
   ],
   "source": [
    "# Normalize training data\n",
    "sc = MinMaxScaler(feature_range=(0,1))\n",
    "train_scaled = sc.fit_transform(train)\n",
    "test_scaled = sc.fit_transform(test)\n",
    "# Create supervised data with 20 inputs and 1 output\n",
    "look_back = 15\n",
    "X_train = []\n",
    "y_train = []\n",
    "X_test = []\n",
    "y_test = []\n",
    "\n",
    "for i in range(look_back, len(train)):\n",
    "    X_train.append(train_scaled[i-look_back:i, 0])\n",
    "    y_train.append(train_scaled[i, 0])\n",
    "\n",
    "for i in range(look_back, len(test)):\n",
    "    X_train.append(train_scaled[i-look_back:i, 0])\n",
    "    y_train.append(train_scaled[i, 0])\n",
    "   \n",
    "X_train, y_train = np.array(X_train), np.array(y_train)\n",
    "X_test, y_test = np.array(X_test), np.array(y_test)\n",
    "\n",
    "# Reshape train set (Returns an array containing the same data with a new shape.)\n",
    "X_train = np.reshape(X_train, (X_train.shape[0], X_train.shape[1], 1))\n",
    "\n",
    "\n",
    "print(X_train.shape)\n",
    "print(y_train.shape)\n",
    "# summarize the data \n",
    "# for i in range(len(X_train)):\n",
    "#   print(X_train[i], y_train[i])"
   ]
  },
  {
   "cell_type": "code",
   "execution_count": null,
   "metadata": {
    "id": "rIwVlSURCQiC"
   },
   "outputs": [],
   "source": []
  },
  {
   "cell_type": "code",
   "execution_count": null,
   "metadata": {
    "colab": {
     "base_uri": "https://localhost:8080/"
    },
    "id": "vu2ZNHe1imAl",
    "outputId": "f1f13275-6830-4ffe-f901-773cfc40d124"
   },
   "outputs": [
    {
     "data": {
      "text/plain": [
       "15"
      ]
     },
     "execution_count": 13,
     "metadata": {},
     "output_type": "execute_result"
    }
   ],
   "source": [
    "#look_back days\n",
    "X_train.shape[1]"
   ]
  },
  {
   "cell_type": "markdown",
   "metadata": {
    "id": "zbdia5uNllkj"
   },
   "source": [
    "\n",
    "\n",
    "---\n",
    "\n",
    "\n"
   ]
  },
  {
   "cell_type": "markdown",
   "metadata": {
    "id": "HZeou-SSljUd"
   },
   "source": [
    "## Build and Train Model"
   ]
  },
  {
   "cell_type": "markdown",
   "metadata": {
    "id": "1QNBOwqNhvo8"
   },
   "source": [
    "### Why choosing of RNN-LSTM model for time series forecasting ? \n",
    "\n",
    "The Neural Network is a powerful technique and adopted by many organization for various purposes. One of the limitation is that, there is no memory associated with model. which is a problem for long sequential data like Time Series. \n",
    "\n",
    "Recurrent Neural Network address that issues by including backward look, which work as a kind of memory. The past input to model leaves it's footprint. And LSTM extends that idea by creating both short-term and long-term memory component. This is one of the best reason to use RNN-LSTM for Time Series Forecasting of Ground Water Level.\n",
    "\n",
    "\n"
   ]
  },
  {
   "cell_type": "code",
   "execution_count": null,
   "metadata": {
    "id": "u4Wq3pYYEYLa"
   },
   "outputs": [],
   "source": [
    "from tensorflow.keras import regularizers\n",
    "# keep in mind : check what properties should the customized loss function have to be compiled\n",
    "#Initiate model\n",
    "regressor = Sequential()\n",
    "\n",
    "# Add one LSTM layer\n",
    "regressor.add(LSTM(64, activation='sigmoid', input_shape=(X_train.shape[1], 1),return_sequences=True))\n",
    "regressor.add(LSTM(32, activation='relu'))\n",
    "# Add an output layer\n",
    "regressor.add(Dropout(0.2))\n",
    "regressor.add(Dense(units=1))\n",
    "    # Usse kernel_regularizer & activity_regularizer if the model is overfitting. \n",
    "    # kernel_regularizer=tf.keras.regularizers.L1(0.01),\n",
    "    # activity_regularizer=tf.keras.regularizers.L2(0.01)))\n",
    "# Compile the model\n",
    "opt = RMSprop(learning_rate=0.0001)\n",
    "regressor.compile(optimizer = 'adam', loss = 'mse') #mean absolute error (MAE) \n",
    "\n",
    "\n",
    "############  ************add accuracy in hostory "
   ]
  },
  {
   "cell_type": "code",
   "execution_count": null,
   "metadata": {
    "colab": {
     "base_uri": "https://localhost:8080/"
    },
    "id": "GZVU_xrbk3_G",
    "outputId": "1f746229-a9ab-4c31-d85b-499f17173af1"
   },
   "outputs": [
    {
     "name": "stdout",
     "output_type": "stream",
     "text": [
      "Model: \"sequential\"\n",
      "_________________________________________________________________\n",
      "Layer (type)                 Output Shape              Param #   \n",
      "=================================================================\n",
      "lstm (LSTM)                  (None, 15, 64)            16896     \n",
      "_________________________________________________________________\n",
      "lstm_1 (LSTM)                (None, 32)                12416     \n",
      "_________________________________________________________________\n",
      "dropout (Dropout)            (None, 32)                0         \n",
      "_________________________________________________________________\n",
      "dense (Dense)                (None, 1)                 33        \n",
      "=================================================================\n",
      "Total params: 29,345\n",
      "Trainable params: 29,345\n",
      "Non-trainable params: 0\n",
      "_________________________________________________________________\n"
     ]
    }
   ],
   "source": [
    "regressor.summary()"
   ]
  },
  {
   "cell_type": "markdown",
   "metadata": {
    "id": "D6NbQ0gvEePE"
   },
   "source": [
    "A simple architecture of LSTM units trained using Adam optimizer and Mean Squared Loss function for 25 epochs. Note that instead of using model.fit(), we use model.fit_generator() because we have created a data generator."
   ]
  },
  {
   "cell_type": "code",
   "execution_count": null,
   "metadata": {
    "colab": {
     "base_uri": "https://localhost:8080/"
    },
    "id": "fqVYPh_diDpb",
    "outputId": "77a21ab0-139d-48b6-c4ec-ffccdd410f73"
   },
   "outputs": [
    {
     "name": "stdout",
     "output_type": "stream",
     "text": [
      "Epoch 1/25\n",
      "366/366 [==============================] - 11s 22ms/step - loss: 0.0270 - val_loss: 0.0027\n",
      "Epoch 2/25\n",
      "366/366 [==============================] - 7s 18ms/step - loss: 0.0057 - val_loss: 0.0016\n",
      "Epoch 3/25\n",
      "366/366 [==============================] - 7s 19ms/step - loss: 0.0045 - val_loss: 0.0022\n",
      "Epoch 4/25\n",
      "366/366 [==============================] - 7s 20ms/step - loss: 0.0037 - val_loss: 0.0037\n",
      "Epoch 5/25\n",
      "366/366 [==============================] - 7s 20ms/step - loss: 0.0033 - val_loss: 0.0021\n",
      "Epoch 6/25\n",
      "366/366 [==============================] - 7s 19ms/step - loss: 0.0032 - val_loss: 0.0019\n",
      "Epoch 7/25\n",
      "366/366 [==============================] - 7s 18ms/step - loss: 0.0028 - val_loss: 0.0014\n",
      "Epoch 8/25\n",
      "366/366 [==============================] - 7s 19ms/step - loss: 0.0025 - val_loss: 4.3962e-04\n",
      "Epoch 9/25\n",
      "366/366 [==============================] - 7s 19ms/step - loss: 0.0023 - val_loss: 0.0010\n",
      "Epoch 10/25\n",
      "366/366 [==============================] - 7s 19ms/step - loss: 0.0021 - val_loss: 5.2598e-04\n",
      "Epoch 11/25\n",
      "366/366 [==============================] - 7s 19ms/step - loss: 0.0021 - val_loss: 3.6010e-04\n",
      "Epoch 12/25\n",
      "366/366 [==============================] - 7s 20ms/step - loss: 0.0020 - val_loss: 1.0625e-04\n",
      "Epoch 13/25\n",
      "366/366 [==============================] - 7s 20ms/step - loss: 0.0020 - val_loss: 1.7746e-04\n",
      "Epoch 14/25\n",
      "366/366 [==============================] - 7s 19ms/step - loss: 0.0019 - val_loss: 8.6627e-04\n",
      "Epoch 15/25\n",
      "366/366 [==============================] - 7s 18ms/step - loss: 0.0020 - val_loss: 4.4775e-04\n",
      "Epoch 16/25\n",
      "366/366 [==============================] - 7s 19ms/step - loss: 0.0020 - val_loss: 3.5506e-04\n",
      "Epoch 17/25\n",
      "366/366 [==============================] - 7s 19ms/step - loss: 0.0019 - val_loss: 9.8408e-05\n",
      "Epoch 18/25\n",
      "366/366 [==============================] - 7s 19ms/step - loss: 0.0018 - val_loss: 6.0379e-05\n",
      "Epoch 19/25\n",
      "366/366 [==============================] - 7s 19ms/step - loss: 0.0019 - val_loss: 7.2700e-04\n",
      "Epoch 20/25\n",
      "366/366 [==============================] - 6s 18ms/step - loss: 0.0019 - val_loss: 4.0443e-04\n",
      "Epoch 21/25\n",
      "366/366 [==============================] - 8s 21ms/step - loss: 0.0019 - val_loss: 2.8160e-04\n",
      "Epoch 22/25\n",
      "366/366 [==============================] - 7s 19ms/step - loss: 0.0018 - val_loss: 2.6246e-04\n",
      "Epoch 23/25\n",
      "366/366 [==============================] - 7s 19ms/step - loss: 0.0019 - val_loss: 1.5982e-04\n",
      "Epoch 24/25\n",
      "366/366 [==============================] - 7s 19ms/step - loss: 0.0018 - val_loss: 2.0635e-04\n",
      "Epoch 25/25\n",
      "366/366 [==============================] - 7s 19ms/step - loss: 0.0018 - val_loss: 4.6403e-04\n"
     ]
    }
   ],
   "source": [
    "\n",
    "# Fit LSTM to the training set with a split for validation\n",
    "history = regressor.fit(X_train, y_train, validation_split=0.2, epochs=25, batch_size=32)\n"
   ]
  },
  {
   "cell_type": "markdown",
   "metadata": {
    "id": "M_h-B8AjAVZ9"
   },
   "source": [
    "The Loss Function is one of the important components of Neural Networks. Loss is nothing but a prediction error of Neural Net. And the method to calculate the loss is called Loss Function. In simple words, the Loss is used to calculate the gradients. And gradients are used to update the weights of the Neural Net.\n",
    "\n",
    "Loss value implies how well or poorly a certain model behaves after each iteration of optimization. "
   ]
  },
  {
   "cell_type": "code",
   "execution_count": null,
   "metadata": {
    "id": "uqznYEtHiDNF"
   },
   "outputs": [],
   "source": []
  },
  {
   "cell_type": "markdown",
   "metadata": {
    "id": "EX2iLC-OHpW9"
   },
   "source": [
    "**Epochs**\n",
    "\n",
    "One Epoch is when an ENTIRE dataset is passed forward and backward through the neural network only ONCE.\n",
    "\n",
    "**Batch Size**\n",
    "\n",
    "Total number of training examples present in a single batch.\n",
    "Note: Batch size and number of batches are two different things.\n",
    "\n",
    "**Iterations**\n",
    "\n",
    "To get the iterations you just need to know multiplication tables or have a calculator. \n",
    "Iterations is the number of batches needed to complete one epoch.\n",
    "\n",
    "**Note:** The number of batches is equal to number of iterations for one epoch.\n",
    "> Indented block\n",
    "Let’s say we have 2000 training examples that we are going to use .\n",
    "We can divide the dataset of 2000 examples into batches of 500 then it will take 4 iterations to complete 1 epoch.\n",
    "\n",
    "\n",
    "\n"
   ]
  },
  {
   "cell_type": "code",
   "execution_count": null,
   "metadata": {
    "id": "aFrwgoIym5yU"
   },
   "outputs": [],
   "source": [
    "# save model to single file\n",
    "regressor.save('lstm_model.h5')"
   ]
  },
  {
   "cell_type": "code",
   "execution_count": null,
   "metadata": {
    "colab": {
     "base_uri": "https://localhost:8080/",
     "height": 295
    },
    "id": "Q7n66qYgyDmn",
    "outputId": "257bcb76-b6b6-45f1-db88-77da892d7537"
   },
   "outputs": [
    {
     "data": {
      "image/png": "[encoded data removed]",
      "text/plain": [
       "<Figure size 432x288 with 1 Axes>"
      ]
     },
     "metadata": {
      "needs_background": "light"
     },
     "output_type": "display_data"
    }
   ],
   "source": [
    "import matplotlib.pyplot as plt\n",
    "# summarize history for accuracy\n",
    "# summarize history for loss\n",
    "plt.plot(history.history['loss'])\n",
    "plt.plot(history.history['val_loss'])\n",
    "plt.title('model loss')\n",
    "plt.ylabel('loss')\n",
    "plt.xlabel('epoch')\n",
    "plt.legend(['train', 'test'], loc='upper left')\n",
    "plt.show()"
   ]
  },
  {
   "cell_type": "code",
   "execution_count": 1,
   "metadata": {
    "id": "gEAJBFRcqutC"
   },
   "outputs": [],
   "source": [
    "# history.history"
   ]
  },
  {
   "cell_type": "markdown",
   "metadata": {
    "id": "ZEuzFCnil0_c"
   },
   "source": [
    "\n",
    "\n",
    "---\n",
    "\n",
    "\n",
    "\n",
    "---\n",
    "\n"
   ]
  },
  {
   "cell_type": "markdown",
   "metadata": {
    "id": "yfjBVvmMl3U8"
   },
   "source": [
    "## Forecasting"
   ]
  },
  {
   "cell_type": "code",
   "execution_count": null,
   "metadata": {
    "colab": {
     "base_uri": "https://localhost:8080/",
     "height": 237
    },
    "id": "9XA217GZEeul",
    "outputId": "b587ee49-62e8-489f-a507-8fbbe8810a5b"
   },
   "outputs": [
    {
     "data": {
      "text/html": [
       "<div>\n",
       "<style scoped>\n",
       "    .dataframe tbody tr th:only-of-type {\n",
       "        vertical-align: middle;\n",
       "    }\n",
       "\n",
       "    .dataframe tbody tr th {\n",
       "        vertical-align: top;\n",
       "    }\n",
       "\n",
       "    .dataframe thead th {\n",
       "        text-align: right;\n",
       "    }\n",
       "</style>\n",
       "<table border=\"1\" class=\"dataframe\">\n",
       "  <thead>\n",
       "    <tr style=\"text-align: right;\">\n",
       "      <th></th>\n",
       "      <th>niveau_nappe_eau</th>\n",
       "    </tr>\n",
       "    <tr>\n",
       "      <th>date_mesure</th>\n",
       "      <th></th>\n",
       "    </tr>\n",
       "  </thead>\n",
       "  <tbody>\n",
       "    <tr>\n",
       "      <th>2013-09-04</th>\n",
       "      <td>16.510809</td>\n",
       "    </tr>\n",
       "    <tr>\n",
       "      <th>2013-09-05</th>\n",
       "      <td>16.489391</td>\n",
       "    </tr>\n",
       "    <tr>\n",
       "      <th>2013-09-06</th>\n",
       "      <td>16.466825</td>\n",
       "    </tr>\n",
       "    <tr>\n",
       "      <th>2013-09-07</th>\n",
       "      <td>16.443136</td>\n",
       "    </tr>\n",
       "    <tr>\n",
       "      <th>2013-09-08</th>\n",
       "      <td>16.418560</td>\n",
       "    </tr>\n",
       "  </tbody>\n",
       "</table>\n",
       "</div>"
      ],
      "text/plain": [
       "             niveau_nappe_eau\n",
       "date_mesure                  \n",
       "2013-09-04          16.510809\n",
       "2013-09-05          16.489391\n",
       "2013-09-06          16.466825\n",
       "2013-09-07          16.443136\n",
       "2013-09-08          16.418560"
      ]
     },
     "execution_count": 72,
     "metadata": {},
     "output_type": "execute_result"
    }
   ],
   "source": [
    "# Prepare test set\n",
    "inputs = series[len(series) - len(test) - look_back:].values\n",
    "inputs = inputs.reshape(-1,1)\n",
    "inputs = sc.transform(inputs)\n",
    "X_test = []\n",
    "y_test = []\n",
    "for i in range(look_back, look_back+len(test)):\n",
    "    X_test.append(inputs[i-look_back:i, 0])\n",
    "    y_test.append(train_scaled[i, 0])\n",
    "\n",
    "X_test, y_test = np.array(X_test), np.array(y_test)\n",
    "# Reshape train set\n",
    "X_test = np.reshape(X_test, (X_test.shape[0], X_test.shape[1], 1))\n",
    "\n",
    "\n",
    "# Forecast on  testing data\n",
    "predict_scaled = regressor.predict(X_test)\n",
    "predict_test = sc.inverse_transform(predict_scaled)\n",
    "predict_test = pd.DataFrame(predict_test)\n",
    "\n",
    "predict_test.index = test.index\n",
    "predict_test.columns = ['niveau_nappe_eau']\n",
    "predict_test[:5]"
   ]
  },
  {
   "cell_type": "code",
   "execution_count": null,
   "metadata": {
    "id": "aXtL60tCe5o2"
   },
   "outputs": [],
   "source": []
  },
  {
   "cell_type": "code",
   "execution_count": null,
   "metadata": {
    "colab": {
     "base_uri": "https://localhost:8080/"
    },
    "id": "NP0iiQjxufz5",
    "outputId": "62db66ae-cdcd-497f-d3c6-71829a6cb8fd"
   },
   "outputs": [
    {
     "name": "stdout",
     "output_type": "stream",
     "text": [
      "Mean Absolute Error:  0.20189028473212645\n",
      "Mean Squared Error:  0.06736943317523389\n",
      "Median Absolute Error:  0.15377143859863196\n"
     ]
    }
   ],
   "source": [
    "from sklearn.metrics import mean_absolute_error, mean_squared_error,median_absolute_error\n",
    "print('Mean Absolute Error: ',mean_absolute_error(test, predict_test))\n",
    "print('Mean Squared Error: ',mean_squared_error(test, predict_test))\n",
    "print('Median Absolute Error: ',median_absolute_error(test, predict_test))"
   ]
  },
  {
   "cell_type": "code",
   "execution_count": null,
   "metadata": {
    "id": "8QboZrSAKkI6"
   },
   "outputs": [],
   "source": []
  },
  {
   "cell_type": "code",
   "execution_count": null,
   "metadata": {
    "colab": {
     "base_uri": "https://localhost:8080/",
     "height": 295
    },
    "id": "9t87t_uYa5Us",
    "outputId": "6f80f2f1-53c8-4744-b360-d9981a9f78b3"
   },
   "outputs": [
    {
     "data": {
      "image/png": "[encoded data removed]",
      "text/plain": [
       "<Figure size 432x288 with 1 Axes>"
      ]
     },
     "metadata": {
      "needs_background": "light"
     },
     "output_type": "display_data"
    }
   ],
   "source": [
    "fig, ax = plt.subplots()\n",
    "ax.scatter(test, predict_test)\n",
    "ax.set_xlabel('x-axis')\n",
    "ax.set_ylabel('y-axis')\n",
    "ax.set_title('Line plot with error bars')\n",
    "plt.show()\n",
    "\n"
   ]
  },
  {
   "cell_type": "code",
   "execution_count": null,
   "metadata": {
    "id": "i38fAh8BBDru"
   },
   "outputs": [],
   "source": [
    "test_plot = test.loc['2016-09-01' : '2021-06-30'] #test set\n",
    "predict_test_plot = predict_test.loc['2016-09-01' : '2021-06-30']"
   ]
  },
  {
   "cell_type": "code",
   "execution_count": null,
   "metadata": {
    "colab": {
     "base_uri": "https://localhost:8080/",
     "height": 295
    },
    "id": "Q448t_vZjP7u",
    "outputId": "634e349a-5ab5-494d-fdbc-cdf8eb99a3e5"
   },
   "outputs": [
    {
     "data": {
      "image/png": "[encoded data removed]",
      "text/plain": [
       "<Figure size 1008x288 with 1 Axes>"
      ]
     },
     "metadata": {
      "needs_background": "light"
     },
     "output_type": "display_data"
    }
   ],
   "source": [
    "\n",
    "plt.figure(figsize=(14,4))\n",
    "# plt.plot(train['niveau_nappe_eau':100])\n",
    "plt.plot(test_plot['niveau_nappe_eau'])\n",
    "plt.plot(predict_test_plot['niveau_nappe_eau'],alpha=0.4, color='red')\n",
    "plt.ylabel(\"niveau nappe eau\")\n",
    "plt.xlabel(\"Date\")\n",
    "plt.legend([\"Actual\", \"Prediction\"])\n",
    "plt.title(\"Comparison actual of and prediction value Ground Water Level\")\n",
    "plt.show()\n",
    "\n"
   ]
  },
  {
   "cell_type": "markdown",
   "metadata": {
    "id": "e3sa1tqHj74Q"
   },
   "source": [
    "## Predict Future Value"
   ]
  },
  {
   "cell_type": "code",
   "execution_count": null,
   "metadata": {
    "id": "fc9Sc5iBWLFU"
   },
   "outputs": [],
   "source": [
    "import seaborn as sns"
   ]
  },
  {
   "cell_type": "code",
   "execution_count": null,
   "metadata": {
    "colab": {
     "base_uri": "https://localhost:8080/"
    },
    "id": "8ZnR7ZHegKca",
    "outputId": "b1ed2875-4485-4535-895a-0edceb4c9fe4"
   },
   "outputs": [
    {
     "data": {
      "text/plain": [
       "(2932, 15, 1)"
      ]
     },
     "execution_count": 82,
     "metadata": {},
     "output_type": "execute_result"
    }
   ],
   "source": [
    "inputs = series[len(series) - len(test) - look_back:].values\n",
    "inputs = inputs.reshape(-1,1)\n",
    "inputs = sc.transform(inputs)\n",
    "X_test = []\n",
    "y_test = []\n",
    "for i in range(look_back, look_back+len(test)):\n",
    "    X_test.append(inputs[i-look_back:i, 0])\n",
    "    y_test.append(train_scaled[i, 0])\n",
    "\n",
    "X_test, y_test = np.array(X_test), np.array(y_test)\n",
    "# # Reshape train set\n",
    "X_test = np.reshape(X_test, (X_test.shape[0], X_test.shape[1], 1))\n",
    "X_test.shape"
   ]
  },
  {
   "cell_type": "code",
   "execution_count": null,
   "metadata": {
    "colab": {
     "base_uri": "https://localhost:8080/"
    },
    "id": "jb7e2JzrCJcE",
    "outputId": "63bae63c-1b3b-44ae-ad16-b6ea3a165b4c"
   },
   "outputs": [
    {
     "data": {
      "text/plain": [
       "[Timestamp('2021-09-13 00:00:00', freq='D'),\n",
       " Timestamp('2021-09-14 00:00:00', freq='D'),\n",
       " Timestamp('2021-09-15 00:00:00', freq='D'),\n",
       " Timestamp('2021-09-16 00:00:00', freq='D'),\n",
       " Timestamp('2021-09-17 00:00:00', freq='D')]"
      ]
     },
     "execution_count": 161,
     "metadata": {},
     "output_type": "execute_result"
    }
   ],
   "source": [
    "n_future = 1000 # Redfening n_future to extend prediction dates beyond original dates .. \n",
    "forecast_period_dates = pd.date_range(list(train_dates)[-1], periods=n_future, freq='1d').tolist()\n",
    "forecast_period_dates[:5]"
   ]
  },
  {
   "cell_type": "code",
   "execution_count": null,
   "metadata": {
    "colab": {
     "base_uri": "https://localhost:8080/"
    },
    "id": "7sd3hM_nCL7F",
    "outputId": "a35c4f2e-352d-4ff6-a098-73d289e68421"
   },
   "outputs": [
    {
     "data": {
      "text/plain": [
       "(1000, 1)"
      ]
     },
     "execution_count": 162,
     "metadata": {},
     "output_type": "execute_result"
    }
   ],
   "source": [
    "forecast = regressor.predict(X_test[:+n_future])\n",
    "forecast.shape"
   ]
  },
  {
   "cell_type": "code",
   "execution_count": null,
   "metadata": {
    "colab": {
     "base_uri": "https://localhost:8080/"
    },
    "id": "P7HXa0patjK9",
    "outputId": "66825dd4-7fe1-43bd-d0bb-83a78fc7b87c"
   },
   "outputs": [
    {
     "data": {
      "text/plain": [
       "(90, 15, 1)"
      ]
     },
     "execution_count": 163,
     "metadata": {},
     "output_type": "execute_result"
    }
   ],
   "source": [
    "X_test[:+90].shape"
   ]
  },
  {
   "cell_type": "code",
   "execution_count": null,
   "metadata": {
    "colab": {
     "base_uri": "https://localhost:8080/"
    },
    "id": "_DBhVB31omA8",
    "outputId": "51e46204-ba95-4bf8-e9df-9b996163213c"
   },
   "outputs": [
    {
     "data": {
      "text/plain": [
       "2"
      ]
     },
     "execution_count": 164,
     "metadata": {},
     "output_type": "execute_result"
    }
   ],
   "source": [
    "series.shape[1]"
   ]
  },
  {
   "cell_type": "code",
   "execution_count": null,
   "metadata": {
    "colab": {
     "base_uri": "https://localhost:8080/"
    },
    "id": "84bwx4oAUe-2",
    "outputId": "a01dc1e8-471c-4a70-d42e-3b16cf61e1ed"
   },
   "outputs": [
    {
     "data": {
      "text/plain": [
       "array([16.510809, 16.489391, 16.466825, 16.443136, 16.41856 , 16.395092,\n",
       "       16.371817, 16.349796, 16.329355, 16.30858 , 16.288195, 16.268562,\n",
       "       16.248005, 16.229242, 16.210049, 16.192543, 16.174234, 16.155567,\n",
       "       16.136919, 16.118546, 16.100422, 16.082577, 16.06483 , 16.047356,\n",
       "       16.029902, 16.0126  , 15.995466, 15.978301, 15.961617, 15.945077,\n",
       "       15.929538, 15.914403, 15.900581, 15.886861, 15.874253, 15.861482,\n",
       "       15.849585, 15.838672, 15.827264, 15.815054, 15.803426, 15.792639,\n",
       "       15.781277, 15.770413, 15.760238, 15.750692, 15.741655, 15.73435 ,\n",
       "       15.727461, 15.720552, 15.713527, 15.706351, 15.699033, 15.691613,\n",
       "       15.684116, 15.676548, 15.668917, 15.662623, 15.65642 , 15.64998 ,\n",
       "       15.644614, 15.641852, 15.643009, 15.64916 , 15.661098, 15.67803 ,\n",
       "       15.6997  , 15.731781, 15.776946, 15.840704, 15.920417, 16.005846,\n",
       "       16.08803 , 16.161253, 16.228441, 16.293856, 16.360912, 16.423126,\n",
       "       16.489552, 16.561764, 16.639088, 16.723053, 16.805588, 16.871273,\n",
       "       16.926659, 16.980553, 17.033983, 17.089941, 17.139458, 17.179457,\n",
       "       17.216955, 17.267124, 17.320908, 17.382662, 17.436033, 17.484617,\n",
       "       17.528412, 17.56718 , 17.60096 , 17.63519 , 17.666956, 17.70164 ,\n",
       "       17.730173, 17.753101, 17.772663, 17.791157, 17.819183, 17.841486,\n",
       "       17.84751 , 17.8553  , 17.864187, 17.892466, 17.950113, 18.072645,\n",
       "       18.216448, 18.354746, 18.47125 , 18.672907, 18.936035, 19.18527 ,\n",
       "       19.380346, 19.508999, 19.589884, 19.672487, 19.777664, 19.916716,\n",
       "       20.062254, 20.206806, 20.337423, 20.456316, 20.560162, 20.665445,\n",
       "       20.776638, 20.878   , 20.969757, 21.056372, 21.122484, 21.183838,\n",
       "       21.232916, 21.264471, 21.295506, 21.331194, 21.36601 , 21.398546,\n",
       "       21.429081, 21.472952, 21.513145, 21.546568, 21.56569 , 21.575674,\n",
       "       21.597467, 21.621763, 21.644804, 21.694817, 21.770706, 21.853956,\n",
       "       21.934685, 22.049473, 22.244804, 22.478292, 22.770336, 23.08898 ,\n",
       "       23.379642, 23.634197, 23.918335, 24.19331 , 24.429026, 24.6078  ,\n",
       "       24.73656 , 24.822346, 24.897974, 24.955278, 24.9968  , 25.040714,\n",
       "       25.090063, 25.136532, 25.163218, 25.185204, 25.214363, 25.230507,\n",
       "       25.259287, 25.281235, 25.289364, 25.284248, 25.293543, 25.307802,\n",
       "       25.331083, 25.344078, 25.351377, 25.342854, 25.324911, 25.315086,\n",
       "       25.304464, 25.295568, 25.282835, 25.261572, 25.23518 , 25.20278 ,\n",
       "       25.162754, 25.133698, 25.11    , 25.07683 , 25.019907, 24.963083,\n",
       "       24.904024, 24.853441, 24.79959 , 24.74534 , 24.69134 , 24.632622,\n",
       "       24.570251, 24.511467, 24.461363, 24.401777, 24.327406, 24.249695,\n",
       "       24.179098, 24.119925, 24.052141, 23.979044, 23.91403 , 23.851845,\n",
       "       23.789387, 23.725649, 23.656013, 23.58237 , 23.517342, 23.455153,\n",
       "       23.392553, 23.333427, 23.271997, 23.20779 , 23.132326, 23.054176,\n",
       "       22.987196, 22.924711, 22.862274, 22.798155, 22.727642, 22.662542,\n",
       "       22.593718, 22.520607, 22.45007 , 22.377872, 22.308578, 22.251608,\n",
       "       22.193415, 22.13058 , 22.064241, 21.99658 , 21.933966, 21.870872,\n",
       "       21.805975, 21.734814, 21.659302, 21.587109, 21.523678, 21.466112,\n",
       "       21.415245, 21.357904, 21.293446, 21.234856, 21.173403, 21.113163,\n",
       "       21.049753, 20.98838 , 20.929445, 20.871878, 20.814625, 20.76194 ,\n",
       "       20.703058, 20.642843, 20.588017, 20.53313 , 20.48156 , 20.432455,\n",
       "       20.379543, 20.322872, 20.264257, 20.205273, 20.151445, 20.097055,\n",
       "       20.040783, 19.987768, 19.933035, 19.880842, 19.826296, 19.773975,\n",
       "       19.719242, 19.666792, 19.612019, 19.559572, 19.50955 , 19.460857,\n",
       "       19.412508, 19.363985, 19.319908, 19.274683, 19.227377, 19.178623,\n",
       "       19.11989 , 19.06311 , 19.010626, 18.956612, 18.909609, 18.863708,\n",
       "       18.816792, 18.768555, 18.724134, 18.683147, 18.6393  , 18.59686 ,\n",
       "       18.55152 , 18.508234, 18.46737 , 18.42799 , 18.384493, 18.346535,\n",
       "       18.309372, 18.271534, 18.232824, 18.193535, 18.13086 , 18.072792,\n",
       "       18.024517, 17.983599, 17.950703, 17.917345, 17.885778, 17.855436,\n",
       "       17.825594, 17.795845, 17.766083, 17.736347, 17.70664 , 17.67699 ,\n",
       "       17.642849, 17.609678, 17.578445, 17.548681, 17.519615, 17.491007,\n",
       "       17.463762, 17.435926, 17.41167 , 17.385761, 17.363117, 17.342167,\n",
       "       17.324036, 17.307775, 17.29029 , 17.273602, 17.25784 , 17.242083,\n",
       "       17.225428, 17.208023, 17.192207, 17.177782, 17.162165, 17.147467,\n",
       "       17.133667, 17.12047 , 17.106514, 17.085285, 17.063572, 17.043333,\n",
       "       17.02466 , 17.005495, 16.987358, 16.96804 , 16.947573, 16.925997,\n",
       "       16.903833, 16.881557, 16.862083, 16.837431, 16.808723, 16.781137,\n",
       "       16.754137, 16.730257, 16.708652, 16.68606 , 16.66352 , 16.639627,\n",
       "       16.616886, 16.5954  , 16.57533 , 16.554873, 16.533361, 16.512062,\n",
       "       16.490147, 16.468872, 16.447123, 16.426048, 16.40445 , 16.383408,\n",
       "       16.363447, 16.342861, 16.322556, 16.302992, 16.282532, 16.26217 ,\n",
       "       16.242481, 16.223593, 16.205372, 16.18932 , 16.17401 , 16.15853 ,\n",
       "       16.144175, 16.131445, 16.120237, 16.110163, 16.100803, 16.093554,\n",
       "       16.08697 , 16.080114, 16.0744  , 16.068653, 16.063938, 16.058943,\n",
       "       16.054686, 16.04997 , 16.044125, 16.037104, 16.029247, 16.022541,\n",
       "       16.016148, 16.01109 , 16.018074, 16.050468, 16.116646, 16.42645 ,\n",
       "       16.77954 , 16.96046 , 17.036047, 17.063795, 17.079706, 17.098768,\n",
       "       17.121296, 17.146608, 17.171144, 17.192297, 17.212582, 17.232502,\n",
       "       17.251831, 17.277248, 17.302431, 17.320559, 17.342216, 17.363646,\n",
       "       17.388533, 17.408045, 17.418476, 17.426542, 17.434834, 17.43946 ,\n",
       "       17.441317, 17.446222, 17.449732, 17.447002, 17.448591, 17.445988,\n",
       "       17.43926 , 17.434618, 17.432568, 17.43663 , 17.431473, 17.426607,\n",
       "       17.423862, 17.422813, 17.427155, 17.430853, 17.437252, 17.454704,\n",
       "       17.480198, 17.514008, 17.54881 , 17.587423, 17.61755 , 17.662733,\n",
       "       17.713234, 17.773888, 17.854944, 17.95414 , 18.01159 , 18.108437,\n",
       "       18.191957, 18.264957, 18.322958, 18.381008, 18.439018, 18.497698,\n",
       "       18.561663, 18.643633, 18.729382, 18.808348, 18.894238, 18.982515,\n",
       "       19.089977, 19.334385, 19.703419, 20.064032, 20.50186 , 21.060936,\n",
       "       21.583414, 21.945108, 22.136225, 22.2291  , 22.285059, 22.348795,\n",
       "       22.431969, 22.526682, 22.636225, 22.760506, 22.85526 , 22.911608,\n",
       "       22.941616, 22.968296, 23.001179, 23.030407, 23.059584, 23.089165,\n",
       "       23.118715, 23.142952, 23.167849, 23.19469 , 23.227724, 23.254955,\n",
       "       23.290514, 23.309465, 23.308613, 23.292772, 23.276855, 23.246204,\n",
       "       23.23888 , 23.258118, 23.28545 , 23.31991 , 23.346703, 23.36054 ,\n",
       "       23.352343, 23.356455, 23.372149, 23.422842, 23.48142 , 23.515331,\n",
       "       23.532345, 23.534298, 23.53099 , 23.538708, 23.5664  , 23.590956,\n",
       "       23.606548, 23.610798, 23.604382, 23.603512, 23.610294, 23.606575,\n",
       "       23.592333, 23.582851, 23.57046 , 23.549688, 23.518385, 23.491404,\n",
       "       23.470877, 23.444145, 23.415457, 23.391731, 23.362549, 23.31796 ,\n",
       "       23.268133, 23.214127, 23.173512, 23.144209, 23.11441 , 23.06079 ,\n",
       "       22.998737, 22.93743 , 22.88463 , 22.833315, 22.780397, 22.725409,\n",
       "       22.66913 , 22.622238, 22.578005, 22.533035, 22.47184 , 22.403294,\n",
       "       22.33883 , 22.28491 , 22.233128, 22.184542, 22.122774, 22.059563,\n",
       "       21.999022, 21.936394, 21.876316, 21.818655, 21.766928, 21.71895 ,\n",
       "       21.667208, 21.611338, 21.548439, 21.486279, 21.42685 , 21.369493,\n",
       "       21.317749, 21.264774, 21.209124, 21.156406, 21.097084, 21.036722,\n",
       "       20.972548, 20.915476, 20.855408, 20.795853, 20.737324, 20.679436,\n",
       "       20.626537, 20.577305, 20.524714, 20.463547, 20.40608 , 20.354002,\n",
       "       20.30539 , 20.25316 , 20.192173, 20.134716, 20.082546, 20.033817,\n",
       "       19.981524, 19.930037, 19.88002 , 19.831024, 19.78245 , 19.7339  ,\n",
       "       19.685228, 19.63645 , 19.582891, 19.530325, 19.479853, 19.430897,\n",
       "       19.377842, 19.330484, 19.283945, 19.236618, 19.18831 , 19.144085,\n",
       "       19.10339 , 19.055054, 19.004301, 18.953552, 18.903658, 18.854582,\n",
       "       18.810629, 18.770489, 18.731976, 18.693575, 18.654703, 18.610691,\n",
       "       18.567394, 18.521418, 18.477962, 18.432606, 18.389774, 18.344755,\n",
       "       18.30198 , 18.261497, 18.217663, 18.17049 , 18.126057, 18.080135,\n",
       "       18.0417  , 18.004982, 17.963093, 17.921007, 17.879976, 17.84001 ,\n",
       "       17.79609 , 17.757917, 17.72074 , 17.687613, 17.652763, 17.615393,\n",
       "       17.580938, 17.544947, 17.511637, 17.477337, 17.441837, 17.408953,\n",
       "       17.380138, 17.351528, 17.326572, 17.301231, 17.277218, 17.254715,\n",
       "       17.234726, 17.213655, 17.19542 , 17.177477, 17.159378, 17.141087,\n",
       "       17.12474 , 17.10791 , 17.08321 , 17.056213, 17.02909 , 17.002863,\n",
       "       16.978489, 16.95509 , 16.934807, 16.915077, 16.897142, 16.87854 ,\n",
       "       16.85836 , 16.83145 , 16.803553, 16.774708, 16.746271, 16.72088 ,\n",
       "       16.696157, 16.672485, 16.648094, 16.625113, 16.602043, 16.57827 ,\n",
       "       16.557106, 16.5432  , 16.553228, 16.581476, 16.611668, 16.632076,\n",
       "       16.637383, 16.630867, 16.618229, 16.6028  , 16.586903, 16.571636,\n",
       "       16.555517, 16.539322, 16.523956, 16.508837, 16.493303, 16.481012,\n",
       "       16.47429 , 16.471516, 16.472904, 16.483335, 16.497427, 16.52089 ,\n",
       "       16.556604, 16.602325, 16.65051 , 16.69325 , 16.72904 , 16.758991,\n",
       "       16.782887, 16.802856, 16.818201, 16.833082, 16.845455, 16.856623,\n",
       "       16.867224, 16.874477, 16.878174, 16.87946 , 16.879622, 16.879257,\n",
       "       16.876444, 16.873945, 16.872396, 16.871702, 16.869068, 16.864271,\n",
       "       16.860506, 16.855797, 16.852453, 16.84699 , 16.839443, 16.833792,\n",
       "       16.830757, 16.829918, 16.83044 , 16.834574, 16.838934, 16.841887,\n",
       "       16.84316 , 16.843204, 16.845846, 16.848541, 16.85227 , 16.85527 ,\n",
       "       16.857151, 16.857908, 16.857964, 16.85775 , 16.857496, 16.857327,\n",
       "       16.859661, 16.864584, 16.868809, 16.873957, 16.877655, 16.88457 ,\n",
       "       16.892572, 16.903345, 16.916372, 16.93092 , 16.948647, 16.966476,\n",
       "       16.983482, 17.002062, 17.02492 , 17.049078, 17.07576 , 17.106949,\n",
       "       17.137917, 17.169905, 17.20553 , 17.256065, 17.327208, 17.403404,\n",
       "       17.473925, 17.549984, 17.62432 , 17.69207 , 17.748167, 17.796831,\n",
       "       17.847578, 17.90254 , 17.956163, 18.00756 , 18.057093, 18.101097,\n",
       "       18.141266, 18.184517, 18.226797, 18.27689 , 18.319523, 18.354004,\n",
       "       18.392914, 18.423754, 18.456514, 18.492895, 18.5272  , 18.56349 ,\n",
       "       18.60175 , 18.636393, 18.676868, 18.699543, 18.739197, 18.787724,\n",
       "       18.848736, 18.926392, 19.084091, 19.277937, 19.455057, 19.606127,\n",
       "       19.748678, 19.87805 , 20.005596, 20.112505, 20.204151, 20.40424 ,\n",
       "       20.676302, 20.941784, 21.158333, 21.320068, 21.428595, 21.503996,\n",
       "       21.566648, 21.630846, 21.690891, 21.746845, 21.80469 , 21.859583,\n",
       "       21.911108, 21.93608 , 21.960554, 22.00681 , 22.070492, 22.136303,\n",
       "       22.197845, 22.245079, 22.292244, 22.348726, 22.42754 , 22.49648 ,\n",
       "       22.624086, 22.799023, 22.968548, 23.128056, 23.280258, 23.41573 ,\n",
       "       23.50733 , 23.561712, 23.641287, 23.771826, 23.899261, 24.012325,\n",
       "       24.103687, 24.182919, 24.24059 , 24.291323, 24.353493, 24.411716,\n",
       "       24.47787 , 24.530712, 24.561104, 24.57867 , 24.623339, 24.672585,\n",
       "       24.70201 , 24.729221, 24.74096 , 24.737476, 24.737423, 24.725103,\n",
       "       24.737112, 24.73103 , 24.699072, 24.662731, 24.636297, 24.613943,\n",
       "       24.601116, 24.58357 , 24.564213, 24.539791, 24.512278, 24.479256,\n",
       "       24.43831 , 24.40304 , 24.36952 , 24.330585, 24.29181 , 24.244781,\n",
       "       24.206335, 24.176683, 24.13626 , 24.084864, 24.033298, 23.985151,\n",
       "       23.939812, 23.905235, 23.87269 , 23.828417, 23.774511, 23.726805,\n",
       "       23.682056, 23.637848, 23.592955, 23.547178, 23.495983, 23.4459  ,\n",
       "       23.39338 , 23.348568, 23.3053  , 23.251055, 23.187847, 23.130903,\n",
       "       23.076683, 23.0277  , 22.97671 , 22.932236, 22.883335, 22.829172,\n",
       "       22.782011, 22.736956, 22.686678, 22.631674, 22.584291, 22.524696,\n",
       "       22.463432, 22.409159, 22.351126, 22.29792 , 22.249239, 22.20746 ,\n",
       "       22.159761, 22.105394, 22.0475  , 21.998747, 21.948536, 21.899504,\n",
       "       21.841831, 21.786835, 21.736368, 21.683952, 21.633509, 21.589823,\n",
       "       21.541096, 21.491325, 21.44688 , 21.40213 , 21.350866, 21.294529,\n",
       "       21.240942, 21.1911  , 21.143513, 21.096512], dtype=float32)"
      ]
     },
     "execution_count": 165,
     "metadata": {},
     "output_type": "execute_result"
    }
   ],
   "source": [
    "# #Perform inverse transformation to rescale back to original range\n",
    "# #Since we used 5 variables for transform, the inverse expects same dimensions\n",
    "# #Therefore, let us copy our values 5 times and discard them after inverse transform\n",
    "# forecast_copies = np.repeat(forecast, series.shape[1], axis=-1)\n",
    "\n",
    "y_pred_future = sc.inverse_transform(forecast)[:,0]\n",
    "y_pred_future"
   ]
  },
  {
   "cell_type": "code",
   "execution_count": null,
   "metadata": {
    "id": "ovLnJfBQVOMy"
   },
   "outputs": [],
   "source": [
    "# Convert timestamp to date\n",
    "forecast_dates = []\n",
    "for time_i in forecast_period_dates:\n",
    "    forecast_dates.append(time_i.date())\n",
    "    \n",
    "df_forecast = pd.DataFrame({'date_mesure':np.array(forecast_dates), 'niveau_nappe_eau':y_pred_future})\n",
    "df_forecast['date_mesure']=pd.to_datetime(df_forecast['date_mesure'])\n",
    "df_forecast = df_forecast.set_index('date_mesure')\n",
    "\n",
    "\n",
    "original = data[['date_mesure', 'niveau_nappe_eau']]\n",
    "original = original.set_index('date_mesure')\n",
    "# original=pd.to_datetime(original['date_mesure'])\n",
    "# original = original.loc[original['Date'] >= '2010-5-1']\n",
    "\n",
    "# plt.plot(original['Date'], original['niveau_nappe_eau'])\n",
    "# plt.plot(df_forecast['Date'], df_forecast['Niveau nappe eau'])\n",
    "\n",
    "df_forecast\n",
    "series['label']='observed'\n",
    "df_forecast['label']='predicted'"
   ]
  },
  {
   "cell_type": "code",
   "execution_count": null,
   "metadata": {
    "colab": {
     "base_uri": "https://localhost:8080/"
    },
    "id": "2tku6g3avaBz",
    "outputId": "3d978018-5c95-46d0-e040-15bcd58534da"
   },
   "outputs": [
    {
     "name": "stdout",
     "output_type": "stream",
     "text": [
      "             niveau_nappe_eau     label\n",
      "date_mesure                            \n",
      "1970-01-22              18.65  observed\n",
      "1970-01-23              18.65  observed\n",
      "1970-01-24              18.65  observed\n",
      "1970-01-25              18.65  observed\n",
      "1970-01-26              18.65  observed\n"
     ]
    }
   ],
   "source": [
    "\n",
    "a = [series, df_forecast]\n",
    "# testandprediction = pd.concat(test,predict)\n",
    "a = pd.concat(a)\n",
    "a=pd.concat([series,df_forecast])\n",
    "print(a.head())\n",
    "plot_forecast = a.loc['2010-09-01' : '2035-10-30']\n"
   ]
  },
  {
   "cell_type": "code",
   "execution_count": null,
   "metadata": {
    "colab": {
     "base_uri": "https://localhost:8080/",
     "height": 513
    },
    "id": "oW3vcZB6vvwX",
    "outputId": "1bfb8bdf-94d9-47fe-9a35-a571e4cfe51f",
    "scrolled": true
   },
   "outputs": [
    {
     "data": {
      "image/png": "[encoded data removed]",
      "text/plain": [
       "<Figure size 1008x576 with 1 Axes>"
      ]
     },
     "metadata": {
      "needs_background": "light"
     },
     "output_type": "display_data"
    }
   ],
   "source": [
    "plt.figure(figsize=(14,8))\n",
    "plt.plot(plot_forecast.loc[plot_forecast['label']=='observed', 'niveau_nappe_eau'], label= 'observed')\n",
    "plt.plot(plot_forecast.loc[plot_forecast['label']=='predicted', 'niveau_nappe_eau'], label= 'predicted')\n",
    "# plt.plot(df_forecast['niveau_nappe_eau'])\n",
    "plt.ylabel(\"niveau nappe eau\")\n",
    "plt.xlabel(\"Date\")\n",
    "# plt.legend([\"Training Set\", \"Test Set\"])\n",
    "plt.legend()\n",
    "plt.title(\"Ground Water Level\")\n",
    "plt.show()\n",
    "\n",
    "\n"
   ]
  },
  {
   "cell_type": "code",
   "execution_count": null,
   "metadata": {},
   "outputs": [],
   "source": []
  }
 ],
 "metadata": {
  "colab": {
   "collapsed_sections": [
    "_E04XwkpkzNH",
    "QKZktzADH2aG",
    "pBQf4FVR-7tm",
    "WrA2WRTqlOgU"
   ],
   "name": "GWL Prediction Model.ipynb",
   "provenance": []
  },
  "kernelspec": {
   "display_name": "Python 3",
   "language": "python",
   "name": "python3"
  },
  "language_info": {
   "codemirror_mode": {
    "name": "ipython",
    "version": 3
   },
   "file_extension": ".py",
   "mimetype": "text/x-python",
   "name": "python",
   "nbconvert_exporter": "python",
   "pygments_lexer": "ipython3",
   "version": "3.8.10"
  }
 },
 "nbformat": 4,
 "nbformat_minor": 1
}
